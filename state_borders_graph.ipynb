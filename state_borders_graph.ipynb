{
 "cells": [
  {
   "cell_type": "markdown",
   "metadata": {},
   "source": [
    "# Graphing the US State Borders"
   ]
  },
  {
   "cell_type": "code",
   "execution_count": 122,
   "metadata": {},
   "outputs": [],
   "source": [
    "import pandas as pd\n",
    "import networkx as nx"
   ]
  },
  {
   "cell_type": "code",
   "execution_count": 71,
   "metadata": {},
   "outputs": [],
   "source": [
    "state_borders = {'AL': {'FL': {'weight': 0.01}, 'GA': {'weight': 0.01},\n",
    "                        'MS': {'weight': 0.01}, 'TN': {'weight': 0.01}},\n",
    "                'AK': {},\n",
    "                'AZ': {'CA': {'weight': 0.01}, 'NV': {'weight': 0.01},\n",
    "                       'NM': {'weight': 0.01}, 'UT': {'weight': 0.01}},\n",
    "                'AR': {'LA': {'weight': 0.01}, 'MS': {'weight': 0.01},\n",
    "                       'MO': {'weight': 0.01}, 'OK': {'weight': 0.01},\n",
    "                       'TN': {'weight': 0.01}, 'TX': {'weight': 0.01}},\n",
    "                'CA': {'AZ': {'weight': 0.01}, 'NV': {'weight': 0.01},\n",
    "                       'OR': {'weight': 0.01}},\n",
    "                'CO': {'KS': {'weight': 0.01}, 'NE': {'weight': 0.01},\n",
    "                       'NM': {'weight': 0.01}, 'OK': {'weight': 0.01},\n",
    "                       'UT': {'weight': 0.01}, 'WY': {'weight': 0.01}},\n",
    "                'CT': {'MA': {'weight': 0.1}, 'NY': {'weight': 0.1},\n",
    "                       'RI': {'weight': 0.1}},\n",
    "                'DE': {'MD': {'weight': 0.1}, 'NJ': {'weight': 0.1},\n",
    "                       'PA': {'weight': 0.1}},\n",
    "                'FL': {'AL': {'weight': 0.01}, 'GA': {'weight': 0.01}},\n",
    "                'GA': {'AL': {'weight': 0.01}, 'FL': {'weight': 0.01},\n",
    "                       'NC': {'weight': 0.01}, 'SC': {'weight': 0.01},\n",
    "                       'TN': {'weight': 0.01}},\n",
    "                'HI': {},\n",
    "                'ID': {'MT': {'weight': 0.01}, 'NV': {'weight': 0.01},\n",
    "                       'OR': {'weight': 0.01}, 'UT': {'weight': 0.01},\n",
    "                       'WA': {'weight': 0.01}, 'WY': {'weight': 0.01}},\n",
    "                'IL': {'IN': {'weight': 0.01}, 'IA': {'weight': 0.01},\n",
    "                       'KY': {'weight': 0.01}, 'MO': {'weight': 0.01},\n",
    "                       'WI': {'weight': 0.01}},\n",
    "                'IN': {'IL': {'weight': 0.01}, 'KY': {'weight': 0.01},\n",
    "                       'MI': {'weight': 0.01}, 'OH': {'weight': 0.01}},\n",
    "                'IA': {'IL': {'weight': 0.01}, 'MN': {'weight': 0.01},\n",
    "                       'MO': {'weight': 0.01}, 'NE': {'weight': 0.01},\n",
    "                       'SD': {'weight': 0.01}, 'WI': {'weight': 0.01}},\n",
    "                'KS': {'CO': {'weight': 0.01}, 'MO': {'weight': 0.01},\n",
    "                       'NE': {'weight': 0.01}, 'OK': {'weight': 0.01}},\n",
    "                'KY': {'IL': {'weight': 0.01}, 'IN': {'weight': 0.01},\n",
    "                       'MO': {'weight': 0.01}, 'OH': {'weight': 0.01},\n",
    "                       'TN': {'weight': 0.01}, 'VA': {'weight': 0.01},\n",
    "                       'WV': {'weight': 0.01}},\n",
    "                'LA': {'AR': {'weight': 0.01}, 'MS': {'weight': 0.01},\n",
    "                       'TX': {'weight': 0.01}},\n",
    "                'ME': {'NH': {'weight': 0.1}},\n",
    "                'MD': {'DE': {'weight': 0.1}, 'PA': {'weight': 0.01},\n",
    "                       'VA': {'weight': 0.01}, 'WV': {'weight': 0.01}},\n",
    "                'MA': {'CT': {'weight': 0.1}, 'NH': {'weight': 0.1},\n",
    "                       'NY': {'weight': 0.1}, 'RI': {'weight': 0.1},\n",
    "                       'VT': {'weight': 0.1}},\n",
    "                'MI': {'IN': {'weight': 0.01}, 'OH': {'weight': 0.01},\n",
    "                       'WI': {'weight': 0.01}},\n",
    "                'MN': {'IA': {'weight': 0.01}, 'ND': {'weight': 0.01},\n",
    "                       'SD': {'weight': 0.01}, 'WI': {'weight': 0.01}},\n",
    "                'MS': {'AL': {'weight': 0.01}, 'AR': {'weight': 0.01},\n",
    "                       'LA': {'weight': 0.01}, 'TN': {'weight': 0.01}},\n",
    "                'MO': {'AR': {'weight': 0.01}, 'IL': {'weight': 0.01},\n",
    "                       'IA': {'weight': 0.01}, 'KS': {'weight': 0.01},\n",
    "                       'KY': {'weight': 0.01}, 'NE': {'weight': 0.01},\n",
    "                       'OK': {'weight': 0.01}, 'TN': {'weight': 0.01}},\n",
    "                'MT': {'ID': {'weight': 0.01}, 'ND': {'weight': 0.01},\n",
    "                       'SD': {'weight': 0.01}, 'WY': {'weight': 0.01}},\n",
    "                'NE': {'CO': {'weight': 0.01}, 'IA': {'weight': 0.01},\n",
    "                       'KS': {'weight': 0.01}, 'MO': {'weight': 0.01},\n",
    "                       'SD': {'weight': 0.01}, 'WY': {'weight': 0.01}},\n",
    "                'NV': {'AZ': {'weight': 0.01}, 'CA': {'weight': 0.01},\n",
    "                       'ID': {'weight': 0.01}, 'OR': {'weight': 0.01},\n",
    "                       'UT': {'weight': 0.01}},\n",
    "                'NH': {'ME': {'weight': 0.1}, 'MA': {'weight': 0.1},\n",
    "                       'VT': {'weight': 0.1}},\n",
    "                'NJ': {'DE': {'weight': 0.1}, 'NY': {'weight': 0.1},\n",
    "                       'PA': {'weight': 0.1}},\n",
    "                'NM': {'AZ': {'weight': 0.01}, 'CO': {'weight': 0.01},\n",
    "                       'OK': {'weight': 0.01}, 'TX': {'weight': 0.01}},\n",
    "                'NY': {'CT': {'weight': 0.1}, 'MA': {'weight': 0.1},\n",
    "                       'NJ': {'weight': 0.1}, 'PA': {'weight': 0.01},\n",
    "                       'VT': {'weight': 0.1}},\n",
    "                'NC': {'GA': {'weight': 0.01}, 'SC': {'weight': 0.01},\n",
    "                       'TN': {'weight': 0.01}, 'VA': {'weight': 0.01}},\n",
    "                'ND': {'MN': {'weight': 0.01}, 'MT': {'weight': 0.01},\n",
    "                       'SD': {'weight': 0.01}},\n",
    "                'OH': {'IN': {'weight': 0.01}, 'KY': {'weight': 0.01},\n",
    "                       'MI': {'weight': 0.01}, 'PA': {'weight': 0.01},\n",
    "                       'WV': {'weight': 0.01}},\n",
    "                'OK': {'AR': {'weight': 0.01}, 'CO': {'weight': 0.01},\n",
    "                       'KS': {'weight': 0.01}, 'MO': {'weight': 0.01},\n",
    "                       'NM': {'weight': 0.01}, 'TX': {'weight': 0.01}},\n",
    "                'OR': {'CA': {'weight': 0.01}, 'ID': {'weight': 0.01},\n",
    "                       'NV': {'weight': 0.01}, 'WA': {'weight': 0.01}},\n",
    "                'PA': {'DE': {'weight': 0.1}, 'MD': {'weight': 0.01},\n",
    "                       'NJ': {'weight': 0.01}, 'NY': {'weight': 0.01},\n",
    "                       'OH': {'weight': 0.01}, 'WV': {'weight': 0.01}},\n",
    "                'RI': {'CT': {'weight': 0.1}, 'MA': {'weight': 0.1}},\n",
    "                'SC': {'GA': {'weight': 0.01}, 'NC': {'weight': 0.01}},\n",
    "                'SD': {'IA': {'weight': 0.01}, 'MN': {'weight': 0.01},\n",
    "                       'MT': {'weight': 0.01}, 'NE': {'weight': 0.01},\n",
    "                       'ND': {'weight': 0.01}, 'WY': {'weight': 0.01}},\n",
    "                'TN': {'AL': {'weight': 0.01}, 'AR': {'weight': 0.01},\n",
    "                       'GA': {'weight': 0.01}, 'KY': {'weight': 0.01},\n",
    "                       'MS': {'weight': 0.01}, 'MO': {'weight': 0.01},\n",
    "                       'NC': {'weight': 0.01}, 'VA': {'weight': 0.01}},\n",
    "                'TX': {'AR': {'weight': 0.01}, 'LA': {'weight': 0.01},\n",
    "                       'NM': {'weight': 0.01}, 'OK': {'weight': 0.01}},\n",
    "                'UT': {'AZ': {'weight': 0.01}, 'CO': {'weight': 0.01},\n",
    "                       'ID': {'weight': 0.01}, 'NV': {'weight': 0.01},\n",
    "                       'WY': {'weight': 0.01}},\n",
    "                'VT': {'MA': {'weight': 0.1}, 'NH': {'weight': 0.1},\n",
    "                       'NY': {'weight': 0.1}},\n",
    "                'VA': {'KY': {'weight': 0.01}, 'MD': {'weight': 0.01},\n",
    "                       'NC': {'weight': 0.01}, 'TN': {'weight': 0.01},\n",
    "                       'WV': {'weight': 0.01}},\n",
    "                'WA': {'ID': {'weight': 0.01}, 'OR': {'weight': 0.01}},\n",
    "                'WV': {'KY': {'weight': 0.01}, 'MD': {'weight': 0.01},\n",
    "                       'OH': {'weight': 0.01}, 'PA': {'weight': 0.01},\n",
    "                       'VA': {'weight': 0.01}},\n",
    "                'WI': {'IL': {'weight': 0.01}, 'IA': {'weight': 0.01},\n",
    "                       'MI': {'weight': 0.01}, 'MN': {'weight': 0.01}},\n",
    "                'WY': {'CO': {'weight': 0.01}, 'ID': {'weight': 0.01}, \n",
    "                       'MT': {'weight': 0.01}, 'NE': {'weight': 0.01},\n",
    "                       'SD': {'weight': 0.01}, 'UT': {'weight': 0.01}}}"
   ]
  },
  {
   "cell_type": "code",
   "execution_count": 72,
   "metadata": {},
   "outputs": [],
   "source": [
    "borders = nx.from_dict_of_dicts(state_borders)"
   ]
  },
  {
   "cell_type": "code",
   "execution_count": 5,
   "metadata": {},
   "outputs": [],
   "source": [
    "nx.draw(borders, with_labels=True)"
   ]
  },
  {
   "cell_type": "code",
   "execution_count": 98,
   "metadata": {},
   "outputs": [],
   "source": [
    "state_borders48 = {}\n",
    "for state in state_borders:\n",
    "    if state_borders[state] != {}:\n",
    "        state_borders48[state] = state_borders[state]"
   ]
  },
  {
   "cell_type": "code",
   "execution_count": 103,
   "metadata": {},
   "outputs": [],
   "source": [
    "borders48 = nx.from_dict_of_dicts(state_borders48)"
   ]
  },
  {
   "cell_type": "code",
   "execution_count": 6,
   "metadata": {
    "scrolled": true
   },
   "outputs": [],
   "source": [
    "nx.draw(borders48, with_labels=True)"
   ]
  },
  {
   "cell_type": "code",
   "execution_count": 7,
   "metadata": {},
   "outputs": [],
   "source": [
    "list(nx.isolates(borders))"
   ]
  },
  {
   "cell_type": "code",
   "execution_count": 83,
   "metadata": {},
   "outputs": [],
   "source": [
    "list(nx.all_pairs_dijkstra_path(borders))"
   ]
  },
  {
   "cell_type": "code",
   "execution_count": 8,
   "metadata": {},
   "outputs": [],
   "source": [
    "nx.average_clustering(borders48)"
   ]
  },
  {
   "cell_type": "code",
   "execution_count": 9,
   "metadata": {},
   "outputs": [],
   "source": [
    "nx.degree_histogram(borders)"
   ]
  },
  {
   "cell_type": "code",
   "execution_count": 10,
   "metadata": {},
   "outputs": [],
   "source": [
    "nx.average_degree_connectivity(borders48)"
   ]
  },
  {
   "cell_type": "code",
   "execution_count": 94,
   "metadata": {},
   "outputs": [],
   "source": [
    "nx.average_neighbor_degree(borders48)"
   ]
  },
  {
   "cell_type": "code",
   "execution_count": 11,
   "metadata": {},
   "outputs": [],
   "source": [
    "nx.average_shortest_path_length(borders48)"
   ]
  },
  {
   "cell_type": "code",
   "execution_count": 191,
   "metadata": {},
   "outputs": [],
   "source": [
    "nx.node_clique_number(borders)"
   ]
  },
  {
   "cell_type": "code",
   "execution_count": null,
   "metadata": {},
   "outputs": [],
   "source": [
    "nx.betweenness_centrality(borders48)"
   ]
  },
  {
   "cell_type": "code",
   "execution_count": 1,
   "metadata": {},
   "outputs": [],
   "source": [
    "# Exercise 1:\n",
    "\n",
    "# Which state has the highest betweenness centrality?\n",
    "\n",
    "# HINT: Use the tools inside networkx!\n",
    "\n",
    "\n"
   ]
  },
  {
   "cell_type": "code",
   "execution_count": 2,
   "metadata": {},
   "outputs": [],
   "source": [
    "# Exercise 2:\n",
    "\n",
    "# Which state has the highest degree centrality?\n",
    "\n"
   ]
  },
  {
   "cell_type": "code",
   "execution_count": 3,
   "metadata": {},
   "outputs": [],
   "source": [
    "# Exercise 3:\n",
    "\n",
    "# Which state has the highest closeness centrality?\n",
    "\n",
    "\n"
   ]
  },
  {
   "cell_type": "code",
   "execution_count": 4,
   "metadata": {},
   "outputs": [],
   "source": [
    "# Exercise 4:\n",
    "\n",
    "# Which border has the highest betweenness centrality?\n",
    "\n",
    "# And what is the interpretation of this?\n",
    "\n",
    "\n"
   ]
  },
  {
   "cell_type": "code",
   "execution_count": null,
   "metadata": {},
   "outputs": [],
   "source": []
  }
 ],
 "metadata": {
  "kernelspec": {
   "display_name": "Python 3",
   "language": "python",
   "name": "python3"
  },
  "language_info": {
   "codemirror_mode": {
    "name": "ipython",
    "version": 3
   },
   "file_extension": ".py",
   "mimetype": "text/x-python",
   "name": "python",
   "nbconvert_exporter": "python",
   "pygments_lexer": "ipython3",
   "version": "3.7.2"
  }
 },
 "nbformat": 4,
 "nbformat_minor": 2
}
